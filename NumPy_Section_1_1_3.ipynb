{
  "nbformat": 4,
  "nbformat_minor": 0,
  "metadata": {
    "colab": {
      "name": "NumPy_Section_1_1-3.ipynb",
      "provenance": [],
      "collapsed_sections": [],
      "authorship_tag": "ABX9TyOGnrrv+bhz6s4nLj4egYB0",
      "include_colab_link": true
    },
    "kernelspec": {
      "name": "python3",
      "display_name": "Python 3"
    },
    "language_info": {
      "name": "python"
    }
  },
  "cells": [
    {
      "cell_type": "markdown",
      "metadata": {
        "id": "view-in-github",
        "colab_type": "text"
      },
      "source": [
        "<a href=\"https://colab.research.google.com/github/yjin0034/TIL-1/blob/master/NumPy_Section_1_1_3.ipynb\" target=\"_parent\"><img src=\"https://colab.research.google.com/assets/colab-badge.svg\" alt=\"Open In Colab\"/></a>"
      ]
    },
    {
      "cell_type": "code",
      "execution_count": 21,
      "metadata": {
        "id": "eUl4PXMpgeKU"
      },
      "outputs": [],
      "source": [
        "import numpy as np"
      ]
    },
    {
      "cell_type": "markdown",
      "source": [
        "##Section 1. N차원 배열 생성"
      ],
      "metadata": {
        "id": "NMXr9QxYgmb5"
      }
    },
    {
      "cell_type": "markdown",
      "source": [
        "1-3. 정해진 형식의 N차원 배열 생성하기"
      ],
      "metadata": {
        "id": "0S6UlioogusC"
      }
    },
    {
      "cell_type": "code",
      "source": [
        "# np.zeros() : 모든 원소가 0으로 이루어진 배열을 생성\n",
        "arr = np.zeros([2, 2])    # [ ] 안 인자로는 생성할 배열의 Shape(행, 열 수)을 입력    # 모든 원소가 0로 이루어진 2행 2열의 행렬 생성\n",
        "print(arr)"
      ],
      "metadata": {
        "id": "hGd3bTUKnk8g",
        "colab": {
          "base_uri": "https://localhost:8080/"
        },
        "outputId": "cd8abc47-277b-45dd-f417-0248fe0537af"
      },
      "execution_count": 22,
      "outputs": [
        {
          "output_type": "stream",
          "name": "stdout",
          "text": [
            "[[0. 0.]\n",
            " [0. 0.]]\n"
          ]
        }
      ]
    },
    {
      "cell_type": "code",
      "source": [
        "# np.ones() : 모든 원소가 1로 이루어진 배열 생성\n",
        "arr = np.ones([3, 5])    # [ ] 안 인자로는 생성할 배열의 Shape(행, 열 수)을 입력    # 모든 원소가 1로 이루어진 3행 5열의 행렬 생성\n",
        "print(arr)"
      ],
      "metadata": {
        "colab": {
          "base_uri": "https://localhost:8080/"
        },
        "id": "DvaCuZJO7PKV",
        "outputId": "884789b0-94b7-440a-f464-aadcb3e9ed1c"
      },
      "execution_count": 23,
      "outputs": [
        {
          "output_type": "stream",
          "name": "stdout",
          "text": [
            "[[1. 1. 1. 1. 1.]\n",
            " [1. 1. 1. 1. 1.]\n",
            " [1. 1. 1. 1. 1.]]\n"
          ]
        }
      ]
    },
    {
      "cell_type": "code",
      "source": [
        "# np.full() : 모든 원소들이 지정하는 원소(fill value)로 이루어진 배열 생성\n",
        "arr = np.full([2, 3], 7)    # [ ] 안 인자로는 생성할 배열의 Shape(행, 열 수)과 배열에 채울 지정 원소(fill value)를 입력    # 모든 원소가 7로 이루어진 2행 3열의 행렬 생성\n",
        "print(arr)"
      ],
      "metadata": {
        "colab": {
          "base_uri": "https://localhost:8080/"
        },
        "id": "f-4Fh31F7RM_",
        "outputId": "fc58599f-1902-4df9-9289-605db0cf990d"
      },
      "execution_count": 24,
      "outputs": [
        {
          "output_type": "stream",
          "name": "stdout",
          "text": [
            "[[7 7 7]\n",
            " [7 7 7]]\n"
          ]
        }
      ]
    },
    {
      "cell_type": "code",
      "source": [
        "# np.eye() : m×n의 Shape을 가진 대각 원소가 모두 1인, 그리고 나머지 원소는 모두 0인 행렬 생성\n",
        "arr = np.eye(3, 4)     # [ ] 안 인자로는 생성할 배열의 Shape(행, 열 수) 입력    # 대각 원소가 모두 1이고, 나머지 원소는 모두 0인 3×4 행렬 생성\n",
        "print(arr)\n",
        "\n",
        "print()\n",
        "\n",
        "arr = np.eye(3, 4, k=1)    # k 값으로 대각 원소의 발생 지점을 변경시킬 수 있다. # 대각 원소의 발생 지점을 오른쪽 대각선 위로 1칸 이동.\n",
        "print(arr)\n",
        "\n",
        "print()\n",
        "\n",
        "arr = np.eye(3, 4, k=-1)    # 대각 원소의 발생 지점을 왼쪽 대각선 아래로 1칸 이동.\n",
        "print(arr)\n",
        "\n",
        "print()\n",
        "\n",
        "arr = np.eye(5)    # [ ] 안 인자로 하나의 값만 입력한다면, 지정한 한 값으로 동일한 값의 행과 열로 이루어진 정방 행렬이자, 대각 원소가 모두 1이고, 나머지 원소는 모두 0인 행렬이 생성됨. 즉, 이는 단위 행렬이다.    # 5×5 단위 행렬 생성\n",
        "print(arr)"
      ],
      "metadata": {
        "colab": {
          "base_uri": "https://localhost:8080/"
        },
        "id": "9FX_Tj0x9NnZ",
        "outputId": "12eae402-13d8-4e5e-ced3-d0360d3a4bc6"
      },
      "execution_count": 25,
      "outputs": [
        {
          "output_type": "stream",
          "name": "stdout",
          "text": [
            "[[1. 0. 0. 0.]\n",
            " [0. 1. 0. 0.]\n",
            " [0. 0. 1. 0.]]\n",
            "\n",
            "[[0. 1. 0. 0.]\n",
            " [0. 0. 1. 0.]\n",
            " [0. 0. 0. 1.]]\n",
            "\n",
            "[[0. 0. 0. 0.]\n",
            " [1. 0. 0. 0.]\n",
            " [0. 1. 0. 0.]]\n",
            "\n",
            "[[1. 0. 0. 0. 0.]\n",
            " [0. 1. 0. 0. 0.]\n",
            " [0. 0. 1. 0. 0.]\n",
            " [0. 0. 0. 1. 0.]\n",
            " [0. 0. 0. 0. 1.]]\n"
          ]
        }
      ]
    },
    {
      "cell_type": "code",
      "source": [
        "# 지정된 배열과 동일한 Shape을 갖는 배열을 만드는 함수들\n",
        "arr1 = np.array([[1, 2, 3],    # 2차원 배열 하나 생성 \n",
        "                [4, 5, 6]])\n",
        "\n",
        "# np.zeros_like() : 지정한 배열과 동일한 Shape을 갖는 배열을 만드는데, 해당 배열의 모든 원소를 0으로 채움         \n",
        "arr_z = np.zeros_like(arr1)    # 지정한 배열(arr1)과 동일한 Shape(2행 3열)을 갖는 배열을 만드는데, 해당 배열의 모든 원소는 0으로 채운다.\n",
        "print(arr_z)\n",
        "\n",
        "print()\n",
        "\n",
        "# np.ones_like() : 지정한 배열과 동일한 Shape을 갖는 배열을 만드는데, 해당 배열의 모든 원소를 1로 채움         \n",
        "arr_z = np.ones_like(arr1)    # 지정한 배열(arr1)과 동일한 Shape(2행 3열)을 갖는 배열을 만드는데, 해당 배열의 모든 원소는 1로 채운다.\n",
        "print(arr_z)\n",
        "\n",
        "print()\n",
        "\n",
        "# np.full_like() : 지정한 배열과 동일한 Shape을 갖는 배열을 만드는데, 해당 배열의 모든 원소는 지정하는 원소(fill value)로 채움         \n",
        "arr_z = np.full_like(arr1, 8)    # 지정한 배열(arr1)과 동일한 Shape(2행 3열)을 갖는 배열을 만드는데, 해당 배열의 모든 원소는 지정한 원소 8로 채운다.\n",
        "print(arr_z)"
      ],
      "metadata": {
        "colab": {
          "base_uri": "https://localhost:8080/"
        },
        "id": "bIzIxzHB-_pl",
        "outputId": "d8124adf-25d0-4f2b-f959-9790c1c8413f"
      },
      "execution_count": 26,
      "outputs": [
        {
          "output_type": "stream",
          "name": "stdout",
          "text": [
            "[[0 0 0]\n",
            " [0 0 0]]\n",
            "\n",
            "[[1 1 1]\n",
            " [1 1 1]]\n",
            "\n",
            "[[8 8 8]\n",
            " [8 8 8]]\n"
          ]
        }
      ]
    },
    {
      "cell_type": "markdown",
      "source": [
        ">**참조**\n",
        ">\n",
        ">인프런 : 데이터 과학을 위한 파이썬 NumPy Basic\n",
        ">\n",
        ">https://www.inflearn.com/course/%EB%8D%B0%EC%9D%B4%ED%84%B0-%EA%B3%BC%ED%95%99-%EB%84%98%ED%8C%8C%EC%9D%B4-%EA%B8%B0%EB%B3%B8#"
      ],
      "metadata": {
        "id": "urn09lO-mwn4"
      }
    }
  ]
}