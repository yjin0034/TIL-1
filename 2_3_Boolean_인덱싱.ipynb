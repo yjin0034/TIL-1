{
  "nbformat": 4,
  "nbformat_minor": 0,
  "metadata": {
    "colab": {
      "name": "2-3. Boolean 인덱싱.ipynb",
      "provenance": [],
      "collapsed_sections": [],
      "authorship_tag": "ABX9TyMpJbZL/P4/bL93iOH920Ss",
      "include_colab_link": true
    },
    "kernelspec": {
      "name": "python3",
      "display_name": "Python 3"
    },
    "language_info": {
      "name": "python"
    }
  },
  "cells": [
    {
      "cell_type": "markdown",
      "metadata": {
        "id": "view-in-github",
        "colab_type": "text"
      },
      "source": [
        "<a href=\"https://colab.research.google.com/github/yjin0034/TIL-1/blob/master/2_3_Boolean_%EC%9D%B8%EB%8D%B1%EC%8B%B1.ipynb\" target=\"_parent\"><img src=\"https://colab.research.google.com/assets/colab-badge.svg\" alt=\"Open In Colab\"/></a>"
      ]
    },
    {
      "cell_type": "code",
      "source": [
        "import numpy as np"
      ],
      "metadata": {
        "id": "4cf8jw2NzvEx"
      },
      "execution_count": 1,
      "outputs": []
    },
    {
      "cell_type": "markdown",
      "source": [
        "# Section 2. N차원 배열의 인덱싱"
      ],
      "metadata": {
        "id": "HxtZnW_VsC0u"
      }
    },
    {
      "cell_type": "markdown",
      "source": [
        "## 2-3. 배열의 Boolean 인덱싱\n",
        "\n",
        "특정 조건에 해당하는 선택여부(True, False)로, True에 해당하는 인덱스 위치에 있는 ndarray를 반환하는 인덱싱 방식\n",
        "\n",
        "* numpy Boolean 인덱싱은 배열 각 요소의 선택여부를 True, False로 표현한다.\n",
        "* Boolean 값으로 된 배열을 인덱스로 사용하면 대상 배열의 인덱스가 True인 아이템만 결과로 추출할 수 있다.\n",
        "* 인덱스 배열의 원소가 True, False 두 값으로만 구성되며 인덱스 배열의 크기가 원래 ndarray 객체의 크기와 같아야 한다.\n"
      ],
      "metadata": {
        "id": "OG3MeWDfsCf4"
      }
    },
    {
      "cell_type": "code",
      "source": [
        "# 1차원 배열 Boolean 인덱싱\n",
        "\n",
        "# 1~4 사이의 숫자를 가진 1차원 배열 생성\n",
        "arr = np.array([1, 2, 3, 4])\n",
        "\n",
        "print(arr[[True, True, False, True]])    # 인덱스 배열의 각 요소의 선택여부 중 선택여부가 True인 요소(들)의 위치에 해당하는, arr 1차원 배열의 요소들만 배열로 반환   # [1 2 4]\n",
        "                                         # 인덱스 배열의 크기는 대상 배열의 크기와 같아야 한다"
      ],
      "metadata": {
        "colab": {
          "base_uri": "https://localhost:8080/"
        },
        "id": "E4el6u1DsB64",
        "outputId": "b6bf18a5-2302-40cf-ebdb-c2c97c680f97"
      },
      "execution_count": 2,
      "outputs": [
        {
          "output_type": "stream",
          "name": "stdout",
          "text": [
            "[1 2 4]\n"
          ]
        }
      ]
    },
    {
      "cell_type": "code",
      "execution_count": 3,
      "metadata": {
        "id": "RB3sxULgmoum",
        "colab": {
          "base_uri": "https://localhost:8080/"
        },
        "outputId": "158429e1-8e40-4cfb-acae-918a048dd215"
      },
      "outputs": [
        {
          "output_type": "stream",
          "name": "stdout",
          "text": [
            "[[1 2 3 4]]\n",
            "[1 3]\n"
          ]
        }
      ],
      "source": [
        "# 2차원 배열 Boolean 인덱싱\n",
        "\n",
        "# 2×4 행렬의 2차원 배열 생성\n",
        "arr = np.array([[1, 2, 3, 4],\n",
        "                [5, 6, 7, 8]])\n",
        "\n",
        "print(arr[[True, False], True])    # 인덱스 배열의 각 요소의 선택여부 중 선택여부가 True인 요소(들)의 위치에 해당하는, arr 2차원 배열의 요소들만 배열로 반환\n",
        "                                   # arr 2차원 배열의 원소들 중, 0번째 행에 대해서, 모든 열에 해당하는 데이터 반환   # [[1 2 3 4]]\n",
        "                                   # 인덱스 배열의 크기는 대상 배열의 크기와 같아야 하지만, 위 코드에서와 같이 열(또는 행) 전체를 한 값인 True(또는 False)로 주는 식의 방식도 가능한가 봄 \n",
        "                                   #\n",
        "                                   # 인덱스 배열의 선택여부\n",
        "                                   # 행 : 0번째 행만 True\n",
        "                                   # 열 : 모든 열 True\n",
        "\n",
        "print(arr[[True, False], [True, False, True, False]])    # 인덱스 배열의 각 요소의 선택여부 중 선택여부가 True인 요소(들)의 위치에 해당하는, arr 2차원 배열의 요소들만 배열로 반환\n",
        "                                   # arr 2차원 배열의 원소들 중, 0번째 행에 대해서, 0, 2번째 열에 해당하는 데이터 반환   # [1 3]\n",
        "                                   # 인덱스 배열의 크기는 대상 배열의 크기와 같아야 한다\n",
        "                                   #\n",
        "                                   # 인덱스 배열의 선택여부\n",
        "                                   # 행 : 0번째 행만 True\n",
        "                                   # 열 : 0, 2번째 열 True\n"
      ]
    },
    {
      "cell_type": "markdown",
      "source": [
        "## 2-4. 연산자를 활용한 배열 인덱싱"
      ],
      "metadata": {
        "id": "aehEhYtg1LpV"
      }
    },
    {
      "cell_type": "code",
      "source": [
        "# 비교 연산자, 논리 연산자를 활용한 1차원 배열 인덱싱\n",
        "\n",
        "# 1~10 사이의 숫자를 가진 1차원 배열 생성\n",
        "arr = np.array([1, 2, 3, 4, 5, 6, 7, 8, 9, 10])\n",
        "\n",
        "print(arr[arr >= 8])      # 배열의 요소들 중 8보다 크거나 같은 요소들만 배열로 반환   # [8 9 10]\n",
        "\n",
        "print()\n",
        "\n",
        "print(arr[(arr != 10) & (arr != 5)])     # 배열의 요소들 중 10과 5에 해당하지 않는 요소들만 배열로 반환   # [1 2 3 4 6 7 8 9]"
      ],
      "metadata": {
        "colab": {
          "base_uri": "https://localhost:8080/"
        },
        "id": "sCHF50A3r4iu",
        "outputId": "dc628de2-40ae-4876-aec6-0b37e5582930"
      },
      "execution_count": 4,
      "outputs": [
        {
          "output_type": "stream",
          "name": "stdout",
          "text": [
            "[ 8  9 10]\n",
            "\n",
            "[1 2 3 4 6 7 8 9]\n"
          ]
        }
      ]
    },
    {
      "cell_type": "code",
      "source": [
        "# 비교 연산자를 활용한 2차원 배열 인덱싱\n",
        "\n",
        "# 2×4 행렬의 2차원 배열 생성\n",
        "arr = np.array([[1, 2, 3, 4],\n",
        "                [5, 6, 7, 8]])\n",
        "\n",
        "print(arr[arr > 3])       # 배열의 요소들 중 3보다 큰 요소들만 배열로 반환   # [4 5 6 7 8]\n",
        "\n",
        "print()\n",
        "\n",
        "print(arr[arr <= 4])      # 배열의 요소들 중 4보다 작거나 같은 요소들만 배열로 반환   # [1 2 3 4]\n",
        "\n",
        "print()\n",
        "\n",
        "print(arr[arr % 2 == 0])  # 배열의 요소들 중 2의 배수(2로 나누었을 때 나머지가 0인)에 해당하는 요소들만 배열로 반환   # [2 4 6 8]"
      ],
      "metadata": {
        "colab": {
          "base_uri": "https://localhost:8080/"
        },
        "id": "ogdUEMMD81sG",
        "outputId": "3a533f5a-8f44-4f6c-d2b0-89e33e54c8b0"
      },
      "execution_count": 5,
      "outputs": [
        {
          "output_type": "stream",
          "name": "stdout",
          "text": [
            "[4 5 6 7 8]\n",
            "\n",
            "[1 2 3 4]\n",
            "\n",
            "[2 4 6 8]\n"
          ]
        }
      ]
    },
    {
      "cell_type": "markdown",
      "source": [
        ">**참조**\n",
        ">\n",
        ">인프런 : 데이터 과학을 위한 파이썬 NumPy Basic\n",
        ">\n",
        ">https://www.inflearn.com/course/%EB%8D%B0%EC%9D%B4%ED%84%B0-%EA%B3%BC%ED%95%99-%EB%84%98%ED%8C%8C%EC%9D%B4-%EA%B8%B0%EB%B3%B8#"
      ],
      "metadata": {
        "id": "_G4Uk_31r5GB"
      }
    }
  ]
}