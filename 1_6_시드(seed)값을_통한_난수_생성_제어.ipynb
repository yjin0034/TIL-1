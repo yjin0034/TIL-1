{
  "nbformat": 4,
  "nbformat_minor": 0,
  "metadata": {
    "colab": {
      "name": "1-6. 시드(seed)값을 통한 난수 생성 제어.ipynb",
      "provenance": [],
      "authorship_tag": "ABX9TyM+1XhIgW/NedT+o4TGduTs",
      "include_colab_link": true
    },
    "kernelspec": {
      "name": "python3",
      "display_name": "Python 3"
    },
    "language_info": {
      "name": "python"
    }
  },
  "cells": [
    {
      "cell_type": "markdown",
      "metadata": {
        "id": "view-in-github",
        "colab_type": "text"
      },
      "source": [
        "<a href=\"https://colab.research.google.com/github/yjin0034/TIL-1/blob/master/1_6_%EC%8B%9C%EB%93%9C(seed)%EA%B0%92%EC%9D%84_%ED%86%B5%ED%95%9C_%EB%82%9C%EC%88%98_%EC%83%9D%EC%84%B1_%EC%A0%9C%EC%96%B4.ipynb\" target=\"_parent\"><img src=\"https://colab.research.google.com/assets/colab-badge.svg\" alt=\"Open In Colab\"/></a>"
      ]
    },
    {
      "cell_type": "code",
      "execution_count": 1,
      "metadata": {
        "id": "en97QdZRzGG6"
      },
      "outputs": [],
      "source": [
        "import numpy as np"
      ]
    },
    {
      "cell_type": "markdown",
      "source": [
        "# Section 1. N차원 배열 생성"
      ],
      "metadata": {
        "id": "VKRUB_PnzdPG"
      }
    },
    {
      "cell_type": "markdown",
      "source": [
        "## 1-6. 시드(seed)값을 통한 난수 생성 제어"
      ],
      "metadata": {
        "id": "ddlVwa8bzgki"
      }
    },
    {
      "cell_type": "code",
      "source": [
        "# 난수 Array를 생성할 때, 랜덤한 난수 Array를 같은 표본의 개수로 여러 번 생성을 시도한다면, 그 결과는 계속해서 전혀 다른 표본의 난수 값이 생성된다. \n",
        "\n",
        "# 균등 분포로부터 10개의 난수(로 구성된) Array 추출\n",
        "arr = np.random.rand(10)\n",
        "print(\"난수 발생1 \\n\", arr)\n",
        "\n",
        "print()\n",
        "\n",
        "# 앞서 생성한 난수 Array와 표본 개수를 동일하게 설정하여 균등 분포로부터 난수 Array 추출\n",
        "arr = np.random.rand(10)\n",
        "print(\"난수 발생2 \\n\", arr)                     # 계속해서 전혀 다른 난수 값을 가진 Array가 생성됨"
      ],
      "metadata": {
        "colab": {
          "base_uri": "https://localhost:8080/"
        },
        "id": "vBypMSvnzWZ1",
        "outputId": "7a23306a-7f33-4e9f-8e83-26a38dee59fc"
      },
      "execution_count": 2,
      "outputs": [
        {
          "output_type": "stream",
          "name": "stdout",
          "text": [
            "난수 발생1 \n",
            " [0.38768787 0.03808911 0.38322464 0.71097859 0.18454834 0.96540615\n",
            " 0.87285724 0.33050204 0.2079118  0.42712103]\n",
            "\n",
            "난수 발생2 \n",
            " [0.51986069 0.23927854 0.03067958 0.08245411 0.30199783 0.5199204\n",
            " 0.65647001 0.83190713 0.74932695 0.95801212]\n"
          ]
        }
      ]
    },
    {
      "cell_type": "code",
      "source": [
        "# np.random.seed()\n",
        "#\n",
        "# 만일, 동일한 난수 Array를 추출하고 싶다면, np.random.seed() 함수를 사용할 수 있다.\n",
        "# np.random.seed(음이 아닌 정수) 형태로 특정 숫자를 지정해주면, seed 지정 이후 난수 추출 시 고정된 값들이 출력된다.\n",
        "# 시드 값(seed 값) : 컴퓨터 프로그램에서 발생하는 무작위 수는 사실 엄격한 의미의 무작위 수가 아니다. 어떤 특정한 시작 숫자를 정해주면 컴퓨터가 정해진 알고리즘에 의해 마치 난수처럼 보이는 수열을 생성한다. 이런 시작 숫자를 시드(seed)라고 한다. 일단 생성된 난수는 다음 번 난수 생성을 위한 시드값이 된다. 따라서 시드값은 한 번만 정해주면 된다. 시드는 보통 현재 시각 등을 이용하여 자동으로 정해지지만 사람이 수동으로 설정할 수도 있다. 특정한 시드값이 사용되면 그 다음에 만들어지는 난수들은 모두 예측할 수 있다.\n",
        "\n",
        "# seed 값 5로 설정\n",
        "np.random.seed(5)\n",
        "# 균등 분포로부터 10개의 난수(로 구성된) Array 추출\n",
        "arr = np.random.rand(10)\n",
        "print(\"난수 발생1 \\n\", arr)\n",
        "\n",
        "print()\n",
        "\n",
        "# 동일하게 seed 값 5로 설정\n",
        "np.random.seed(5)\n",
        "# 앞서 생성한 난수 Array와 표본 개수를 동일하게 설정하여 균등 분포로부터 난수 Array 추출\n",
        "arr = np.random.rand(10)\n",
        "print(\"난수 발생2 \\n\", arr)                     # 계속해서 동일한 난수 값을 가진 Array가 생성됨"
      ],
      "metadata": {
        "colab": {
          "base_uri": "https://localhost:8080/"
        },
        "id": "dPgepGq7zWb7",
        "outputId": "5277905f-b045-46d6-b5c9-b66045b48565"
      },
      "execution_count": 3,
      "outputs": [
        {
          "output_type": "stream",
          "name": "stdout",
          "text": [
            "난수 발생1 \n",
            " [0.22199317 0.87073231 0.20671916 0.91861091 0.48841119 0.61174386\n",
            " 0.76590786 0.51841799 0.2968005  0.18772123]\n",
            "\n",
            "난수 발생2 \n",
            " [0.22199317 0.87073231 0.20671916 0.91861091 0.48841119 0.61174386\n",
            " 0.76590786 0.51841799 0.2968005  0.18772123]\n"
          ]
        }
      ]
    },
    {
      "cell_type": "markdown",
      "source": [
        ">**참조**\n",
        ">\n",
        ">인프런 : 데이터 과학을 위한 파이썬 NumPy Basic\n",
        ">\n",
        ">https://www.inflearn.com/course/%EB%8D%B0%EC%9D%B4%ED%84%B0-%EA%B3%BC%ED%95%99-%EB%84%98%ED%8C%8C%EC%9D%B4-%EA%B8%B0%EB%B3%B8#"
      ],
      "metadata": {
        "id": "W45XE1JVzWq-"
      }
    }
  ]
}