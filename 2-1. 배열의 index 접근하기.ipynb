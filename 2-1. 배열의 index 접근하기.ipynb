{
  "nbformat": 4,
  "nbformat_minor": 0,
  "metadata": {
    "colab": {
      "name": "2-1. 배열의 index 접근하기.ipynb",
      "provenance": [],
      "collapsed_sections": [],
      "authorship_tag": "ABX9TyMFaifzW5ZNvOzXpbYYv4hW",
      "include_colab_link": true
    },
    "kernelspec": {
      "name": "python3",
      "display_name": "Python 3"
    },
    "language_info": {
      "name": "python"
    }
  },
  "cells": [
    {
      "cell_type": "markdown",
      "metadata": {
        "id": "view-in-github",
        "colab_type": "text"
      },
      "source": [
        "<a href=\"https://colab.research.google.com/github/yjin0034/TIL-1/blob/master/2-1.%20%EB%B0%B0%EC%97%B4%EC%9D%98%20index%20%EC%A0%91%EA%B7%BC%ED%95%98%EA%B8%B0.ipynb\" target=\"_parent\"><img src=\"https://colab.research.google.com/assets/colab-badge.svg\" alt=\"Open In Colab\"/></a>"
      ]
    },
    {
      "cell_type": "code",
      "execution_count": 1,
      "metadata": {
        "id": "sO_SnrY4vsFn"
      },
      "outputs": [],
      "source": [
        "import numpy as np"
      ]
    },
    {
      "cell_type": "markdown",
      "source": [
        "# Section 2. N차원 배열의 인덱싱"
      ],
      "metadata": {
        "id": "7FF2jzrfv3HF"
      }
    },
    {
      "cell_type": "markdown",
      "source": [
        "## 2-1. 배열의 index 접근하기"
      ],
      "metadata": {
        "id": "6CUhwlfpv3S9"
      }
    },
    {
      "cell_type": "markdown",
      "source": [
        "### 배열의 인덱싱"
      ],
      "metadata": {
        "id": "adA9B9vVzgH6"
      }
    },
    {
      "cell_type": "code",
      "source": [
        "# 1차원 배열 인덱싱\n",
        "\n",
        "# 0~9 사이의 숫자를 가진 1차원 배열 생성\n",
        "arr = np.array([0, 1, 2, 3, 4, 5, 6, 7, 8, 9])\n",
        "# 또는, arr = np.arange(10) 로 0~9 사이의 숫자를 가진 1차원 배열 생성\n",
        "\n",
        "print(arr)\n",
        "\n",
        "print(arr[3])     # 인덱스 3번째에 위치한 데이터, 3 출력.  0부터 시작해서 3번째 값 2 아니다. 그냥 있는 그대로 3번째 값 3이다.\n",
        "\n",
        "print(arr[1])     # 인덱스 1번째에 위치한 데이터, 1 출력\n",
        "\n",
        "#print(arr[10])    # 해당 배열에 10번째 인덱스는 존재하지 않는다. 에러 발생\n",
        "\n",
        "print(arr[-1])    # 맨 끝에서부터 첫 번째에 해당하는 데이터, 9 출력\n",
        "\n",
        "print(arr[-3])    # 맨 끝에서부터 세 번째에 해당하는 데이터, 7 출력\n",
        "\n",
        "print(arr[-10])   # 맨 끝에서부터 10번째에 해당하는 데이터, 0 출력"
      ],
      "metadata": {
        "colab": {
          "base_uri": "https://localhost:8080/"
        },
        "id": "8X-7K0yuvuPU",
        "outputId": "1d9582d9-2d6a-454c-995a-5f3c14df6115"
      },
      "execution_count": 4,
      "outputs": [
        {
          "output_type": "stream",
          "name": "stdout",
          "text": [
            "[0 1 2 3 4 5 6 7 8 9]\n",
            "3\n",
            "1\n",
            "9\n",
            "7\n",
            "0\n"
          ]
        }
      ]
    },
    {
      "cell_type": "code",
      "source": [
        "# 2차원 배열 인덱싱\n",
        "\n",
        "# 3×4 행렬의 2차원 배열 생성\n",
        "arr = np.array([[1, 2, 3, 4,],\n",
        "                [5, 6, 7, 8],\n",
        "                [9, 10, 11, 12]])\n",
        "\n",
        "print(arr)\n",
        "\n",
        "print()\n",
        "\n",
        "print(arr.shape, arr.ndim)       # (3, 4) : 3×4 행렬  # 2 : 2차원\n",
        "\n",
        "print()\n",
        "\n",
        "print(arr[0][2])                 # 0번째 행에 대해서, 2번째 열에 해당하는 값, 3 출력\n",
        "\n",
        "print(arr[0, 2])                 # 위 코드와 같은 결과값 출력  # 0번째 행에서 2번째 열에 해당하는 값, 3 출력"
      ],
      "metadata": {
        "colab": {
          "base_uri": "https://localhost:8080/"
        },
        "id": "qpT8ygjhvuR2",
        "outputId": "4ad5f903-2ffc-4393-e6c3-233d61d32da9"
      },
      "execution_count": 10,
      "outputs": [
        {
          "output_type": "stream",
          "name": "stdout",
          "text": [
            "[[ 1  2  3  4]\n",
            " [ 5  6  7  8]\n",
            " [ 9 10 11 12]]\n",
            "\n",
            "(3, 4) 2\n",
            "\n",
            "3\n",
            "3\n"
          ]
        }
      ]
    },
    {
      "cell_type": "markdown",
      "source": [
        "### 배열의 슬라이싱"
      ],
      "metadata": {
        "id": "-SByR0hRzkne"
      }
    },
    {
      "cell_type": "code",
      "source": [
        "# 1차원 배열의 슬라이싱\n",
        "\n",
        "# 0~9 사이의 숫자를 가진 1차원 배열 생성\n",
        "arr = np.array([0, 1, 2, 3, 4, 5, 6, 7, 8, 9])\n",
        "\n",
        "print(arr[2:9])           # 2번째 값부터 시작해 9번째 미만까지의 값들 출력. [2 3 4 5 6 7 8]\n",
        "\n",
        "print(arr[3:])            # 3번째 값부터 시작해 끝까지 출력. [3 4 5 6 7 8 9]\n",
        "\n",
        "print(arr[:5])            # 처음부터 시작해 5번째 미만까지의 값들 출력. [0 1 2 3 4]\n",
        "\n",
        "print(arr[:-1])           # 처음부터 시작해, 맨 끝에서부터 첫 번째에 해당하는 데이터인 9미만까지의 값들 출력. [0 1 2 3 4 5 6 7 8] "
      ],
      "metadata": {
        "colab": {
          "base_uri": "https://localhost:8080/"
        },
        "id": "fXiyVaHkvt5J",
        "outputId": "3c2a2e04-b982-45a5-bb72-a788205e51ec"
      },
      "execution_count": 16,
      "outputs": [
        {
          "output_type": "stream",
          "name": "stdout",
          "text": [
            "[2 3 4 5 6 7 8]\n",
            "[3 4 5 6 7 8 9]\n",
            "[0 1 2 3 4]\n",
            "[0 1 2 3 4 5 6 7 8]\n"
          ]
        }
      ]
    },
    {
      "cell_type": "code",
      "source": [
        "# 2차원 배열의 슬라이싱\n",
        "\n",
        "# 3×4 행렬의 2차원 배열 생성\n",
        "arr = np.array([[1, 2, 3, 4,],\n",
        "                [5, 6, 7, 8],\n",
        "                [9, 10, 11, 12]])\n",
        "\n",
        "print(arr[0, :])          # 0번째 행에 대해서, 모든 값 출력. [:]은 처음부터 끝까지의 모든 값을 의미. [1 2 3 4]\n",
        "\n",
        "print(arr[:, 2])          # 모든 행에 대해서, 2번째 열에 해당하는 값(들) 출력. [3 7 11]\n",
        "\n",
        "print()\n",
        "\n",
        "print(arr[:3, :])         # 모든 행에 대해서([:3, ] : 행의 처음부터 3번째 미만까지의 행), 모든 열에 해당하는 값([:]) 출력. 즉, 배열의 모든 원소들 출력\n",
        "\n",
        "print()\n",
        "\n",
        "print(arr[:2, 2:])        # 2번째까지의 행에 대해서, 2~3번째 열에 해당하는 값들 출력. [:2, ] : 처음부터 시작해, 2번째 미만까지의 행. [ , 2:] : 2번째부터 시작해 끝까지에 해당하는 열"
      ],
      "metadata": {
        "colab": {
          "base_uri": "https://localhost:8080/"
        },
        "id": "6ua4wHOKCBgP",
        "outputId": "d1385363-eb02-407a-dac3-0e56469244d3"
      },
      "execution_count": 22,
      "outputs": [
        {
          "output_type": "stream",
          "name": "stdout",
          "text": [
            "[1 2 3 4]\n",
            "[ 3  7 11]\n",
            "\n",
            "[[ 1  2  3  4]\n",
            " [ 5  6  7  8]\n",
            " [ 9 10 11 12]]\n",
            "\n",
            "[[3 4]\n",
            " [7 8]]\n"
          ]
        }
      ]
    },
    {
      "cell_type": "code",
      "source": [
        ""
      ],
      "metadata": {
        "id": "JoEXNNwNCBjo"
      },
      "execution_count": null,
      "outputs": []
    },
    {
      "cell_type": "code",
      "source": [
        ""
      ],
      "metadata": {
        "id": "M_mr0BYyCBoc"
      },
      "execution_count": null,
      "outputs": []
    },
    {
      "cell_type": "code",
      "source": [
        ""
      ],
      "metadata": {
        "id": "yFyus19mCBsC"
      },
      "execution_count": null,
      "outputs": []
    },
    {
      "cell_type": "code",
      "source": [
        ""
      ],
      "metadata": {
        "id": "wX-zeqH3vxD4"
      },
      "execution_count": null,
      "outputs": []
    },
    {
      "cell_type": "markdown",
      "source": [
        ">**참조**\n",
        ">\n",
        ">인프런 : 데이터 과학을 위한 파이썬 NumPy Basic\n",
        ">\n",
        ">https://www.inflearn.com/course/%EB%8D%B0%EC%9D%B4%ED%84%B0-%EA%B3%BC%ED%95%99-%EB%84%98%ED%8C%8C%EC%9D%B4-%EA%B8%B0%EB%B3%B8#"
      ],
      "metadata": {
        "id": "ouVvAo5Bvtpo"
      }
    }
  ]
}