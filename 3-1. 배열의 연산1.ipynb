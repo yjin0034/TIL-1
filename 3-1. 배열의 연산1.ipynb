{
  "nbformat": 4,
  "nbformat_minor": 0,
  "metadata": {
    "colab": {
      "name": "3-1. 배열의 연산1.ipynb",
      "provenance": [],
      "collapsed_sections": [],
      "authorship_tag": "ABX9TyNyKC9iDamLp6w4ldKOgh6O",
      "include_colab_link": true
    },
    "kernelspec": {
      "name": "python3",
      "display_name": "Python 3"
    },
    "language_info": {
      "name": "python"
    }
  },
  "cells": [
    {
      "cell_type": "markdown",
      "metadata": {
        "id": "view-in-github",
        "colab_type": "text"
      },
      "source": [
        "<a href=\"https://colab.research.google.com/github/yjin0034/TIL-1/blob/master/3-1.%20%EB%B0%B0%EC%97%B4%EC%9D%98%20%EC%97%B0%EC%82%B01.ipynb\" target=\"_parent\"><img src=\"https://colab.research.google.com/assets/colab-badge.svg\" alt=\"Open In Colab\"/></a>"
      ]
    },
    {
      "cell_type": "code",
      "source": [
        "import numpy as np"
      ],
      "metadata": {
        "id": "Vm9ugkK79zwL"
      },
      "execution_count": 1,
      "outputs": []
    },
    {
      "cell_type": "markdown",
      "source": [
        "# Section 3. N차원 배열 연산법"
      ],
      "metadata": {
        "id": "MVCdABEH9kO4"
      }
    },
    {
      "cell_type": "markdown",
      "source": [
        "## 3-1. 배열의 연산1: 사칙연산/제곱/제곱근/몫/나머지"
      ],
      "metadata": {
        "id": "clrBznsi9n-Y"
      }
    },
    {
      "cell_type": "code",
      "execution_count": 2,
      "metadata": {
        "colab": {
          "base_uri": "https://localhost:8080/"
        },
        "id": "RrmJbuhd9fCI",
        "outputId": "c8bd8ded-776d-4380-a90f-2b1bb9e43abd"
      },
      "outputs": [
        {
          "output_type": "stream",
          "name": "stdout",
          "text": [
            "[[1 2 3]\n",
            " [4 5 6]\n",
            " [7 8 9]]\n",
            "\n",
            "[[2 2 2]\n",
            " [2 2 2]\n",
            " [2 2 2]]\n"
          ]
        }
      ],
      "source": [
        "# 3×3 shape의 2차원 배열 2개 생성\n",
        "arr1 = np.array([[1, 2, 3],\n",
        "                [4, 5, 6],\n",
        "                [7, 8, 9]])\n",
        "\n",
        "arr2 = np.array([[2, 2, 2],\n",
        "                [2, 2, 2],\n",
        "                [2, 2, 2]])\n",
        "\n",
        "print(arr1)\n",
        "\n",
        "print()\n",
        "\n",
        "print(arr2)"
      ]
    },
    {
      "cell_type": "code",
      "source": [
        "# 두 배열 간의 덧셈\n",
        "print(arr1 + arr2)\n",
        "\n",
        "print()\n",
        "\n",
        "# np.add() 메서드를 사용한 두 배열 간의 덧셈\n",
        "print(np.add(arr1, arr2))"
      ],
      "metadata": {
        "colab": {
          "base_uri": "https://localhost:8080/"
        },
        "id": "9ko-gzUS9pxH",
        "outputId": "8a607b14-9a46-4a5e-b1f1-d961801777f2"
      },
      "execution_count": 3,
      "outputs": [
        {
          "output_type": "stream",
          "name": "stdout",
          "text": [
            "[[ 3  4  5]\n",
            " [ 6  7  8]\n",
            " [ 9 10 11]]\n",
            "\n",
            "[[ 3  4  5]\n",
            " [ 6  7  8]\n",
            " [ 9 10 11]]\n"
          ]
        }
      ]
    },
    {
      "cell_type": "code",
      "source": [
        "# 두 배열 간의 뺄셈\n",
        "print(arr1 - arr2)\n",
        "\n",
        "print()\n",
        "\n",
        "# np.subtract() 메서드를 사용한 두 배열 간의 뺄셈\n",
        "print(np.subtract(arr1, arr2))"
      ],
      "metadata": {
        "colab": {
          "base_uri": "https://localhost:8080/"
        },
        "id": "zi4s5T0v9pzw",
        "outputId": "058baec3-30a3-4dd4-914d-8470e29c0ddc"
      },
      "execution_count": 4,
      "outputs": [
        {
          "output_type": "stream",
          "name": "stdout",
          "text": [
            "[[-1  0  1]\n",
            " [ 2  3  4]\n",
            " [ 5  6  7]]\n",
            "\n",
            "[[-1  0  1]\n",
            " [ 2  3  4]\n",
            " [ 5  6  7]]\n"
          ]
        }
      ]
    },
    {
      "cell_type": "code",
      "source": [
        "# 두 배열 간의 곱셈\n",
        "print(arr1 * arr2)\n",
        "\n",
        "print()\n",
        "\n",
        "# np.multiply() 메서드를 사용한 두 배열 간의 곱셈\n",
        "print(np.multiply(arr1, arr2))\n",
        "\n",
        "# 주의할 점: 이 방법들은 행렬 간의 내적(dot product) 연산이 아니다. 그냥 단순히 두 행렬 원소들끼리의 곱셈만을 행하여 계산한 것이다.\n",
        "# 내적 연산은 다음 파트에서 다룬다"
      ],
      "metadata": {
        "colab": {
          "base_uri": "https://localhost:8080/"
        },
        "id": "dt4U3neO9p2b",
        "outputId": "21d70a82-6cd5-4d78-d0e2-99cfade7aea2"
      },
      "execution_count": 5,
      "outputs": [
        {
          "output_type": "stream",
          "name": "stdout",
          "text": [
            "[[ 2  4  6]\n",
            " [ 8 10 12]\n",
            " [14 16 18]]\n",
            "\n",
            "[[ 2  4  6]\n",
            " [ 8 10 12]\n",
            " [14 16 18]]\n"
          ]
        }
      ]
    },
    {
      "cell_type": "code",
      "source": [
        "# 두 배열 간의 나눗셈\n",
        "print(arr1 / arr2)\n",
        "\n",
        "print()\n",
        "\n",
        "# np.divide() 메서드를 사용한 두 배열 간의 곱셈\n",
        "print(np.divide(arr1, arr2))"
      ],
      "metadata": {
        "colab": {
          "base_uri": "https://localhost:8080/"
        },
        "id": "ls4u4WUI9p5L",
        "outputId": "8d358128-809e-4ffa-c015-088eb6c9f79c"
      },
      "execution_count": 6,
      "outputs": [
        {
          "output_type": "stream",
          "name": "stdout",
          "text": [
            "[[0.5 1.  1.5]\n",
            " [2.  2.5 3. ]\n",
            " [3.5 4.  4.5]]\n",
            "\n",
            "[[0.5 1.  1.5]\n",
            " [2.  2.5 3. ]\n",
            " [3.5 4.  4.5]]\n"
          ]
        }
      ]
    },
    {
      "cell_type": "code",
      "source": [
        "# 배열의 제곱 계산\n",
        "\n",
        "# 3×3 shape의 2차원 배열 생성\n",
        "arr3 = np.array([[1, 1, 1],\n",
        "                [4, 4, 4],\n",
        "                [9, 9, 9]])\n",
        "\n",
        "# arr3 배열의 2제곱 계산   # 각 원소들에 2제곱한 값들을 배열로 반환 \n",
        "print(arr3 ** 2)\n",
        "\n",
        "print()\n",
        "\n",
        "# np.square() 메서드를 사용한 배열의 (2)제곱 계산\n",
        "print(np.square(arr3))\n",
        "\n",
        "print()\n",
        "\n",
        "# arr1 배열의 5제곱 계산   # 각 원소들에 5제곱한 값들을 배열로 반환\n",
        "print(arr3 ** 5)"
      ],
      "metadata": {
        "colab": {
          "base_uri": "https://localhost:8080/"
        },
        "id": "cxoI6B6H9p70",
        "outputId": "c8105dd2-425a-4c81-fbe5-ab95a9610be4"
      },
      "execution_count": 7,
      "outputs": [
        {
          "output_type": "stream",
          "name": "stdout",
          "text": [
            "[[ 1  1  1]\n",
            " [16 16 16]\n",
            " [81 81 81]]\n",
            "\n",
            "[[ 1  1  1]\n",
            " [16 16 16]\n",
            " [81 81 81]]\n",
            "\n",
            "[[    1     1     1]\n",
            " [ 1024  1024  1024]\n",
            " [59049 59049 59049]]\n"
          ]
        }
      ]
    },
    {
      "cell_type": "code",
      "source": [
        "# 배열의 제곱근 계산\n",
        "\n",
        "# arr3 배열의 제곱근 계산   # 각 원소들의 제곱근 값들을 배열로 반환\n",
        "print(np.sqrt(arr3))"
      ],
      "metadata": {
        "colab": {
          "base_uri": "https://localhost:8080/"
        },
        "id": "dYoBy5ar9p_T",
        "outputId": "46f21bb1-4a43-4642-ca1c-0e10d3848032"
      },
      "execution_count": 8,
      "outputs": [
        {
          "output_type": "stream",
          "name": "stdout",
          "text": [
            "[[1. 1. 1.]\n",
            " [2. 2. 2.]\n",
            " [3. 3. 3.]]\n"
          ]
        }
      ]
    },
    {
      "cell_type": "code",
      "source": [
        "# 배열의 몫 계산\n",
        "\n",
        "# arr3 배열의 몫 계산   # 각 원소들을 2로 나누었을 때의 몫들을 배열로 반환\n",
        "print(arr3 // 2)"
      ],
      "metadata": {
        "colab": {
          "base_uri": "https://localhost:8080/"
        },
        "id": "gidEZbtFEt4Z",
        "outputId": "ba2e55e6-04bd-4a5d-8845-2d8520ecc484"
      },
      "execution_count": 9,
      "outputs": [
        {
          "output_type": "stream",
          "name": "stdout",
          "text": [
            "[[0 0 0]\n",
            " [2 2 2]\n",
            " [4 4 4]]\n"
          ]
        }
      ]
    },
    {
      "cell_type": "code",
      "source": [
        "# 배열의 나머지 계산\n",
        "\n",
        "# arr3 배열의 나머지 계산   # 각 원소들을 2로 나누었을 때의 나머지들을 배열로 반환\n",
        "print(arr3 % 2)"
      ],
      "metadata": {
        "colab": {
          "base_uri": "https://localhost:8080/"
        },
        "id": "aIte_XkwEt65",
        "outputId": "1b6cd801-9448-462a-c082-ba92c2b8b254"
      },
      "execution_count": 10,
      "outputs": [
        {
          "output_type": "stream",
          "name": "stdout",
          "text": [
            "[[1 1 1]\n",
            " [0 0 0]\n",
            " [1 1 1]]\n"
          ]
        }
      ]
    },
    {
      "cell_type": "markdown",
      "source": [
        ">**참조**\n",
        ">\n",
        ">인프런 : 데이터 과학을 위한 파이썬 NumPy Basic\n",
        ">\n",
        ">https://www.inflearn.com/course/%EB%8D%B0%EC%9D%B4%ED%84%B0-%EA%B3%BC%ED%95%99-%EB%84%98%ED%8C%8C%EC%9D%B4-%EA%B8%B0%EB%B3%B8#"
      ],
      "metadata": {
        "id": "RyirWbs29vB_"
      }
    }
  ]
}