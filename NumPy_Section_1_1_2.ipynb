{
  "nbformat": 4,
  "nbformat_minor": 0,
  "metadata": {
    "colab": {
      "name": "NumPy_Section_1_1-2.ipynb",
      "provenance": [],
      "authorship_tag": "ABX9TyPRuRLNIU2hWj57h9Rf8iCk",
      "include_colab_link": true
    },
    "kernelspec": {
      "name": "python3",
      "display_name": "Python 3"
    },
    "language_info": {
      "name": "python"
    }
  },
  "cells": [
    {
      "cell_type": "markdown",
      "metadata": {
        "id": "view-in-github",
        "colab_type": "text"
      },
      "source": [
        "<a href=\"https://colab.research.google.com/github/yjin0034/TIL-1/blob/master/NumPy_Section_1_1_2.ipynb\" target=\"_parent\"><img src=\"https://colab.research.google.com/assets/colab-badge.svg\" alt=\"Open In Colab\"/></a>"
      ]
    },
    {
      "cell_type": "code",
      "execution_count": 2,
      "metadata": {
        "id": "eUl4PXMpgeKU"
      },
      "outputs": [],
      "source": [
        "import numpy as np"
      ]
    },
    {
      "cell_type": "markdown",
      "source": [
        "##Section 1. N차원 배열 생성"
      ],
      "metadata": {
        "id": "NMXr9QxYgmb5"
      }
    },
    {
      "cell_type": "markdown",
      "source": [
        "1-2. N차원 배열의 데이터 타입"
      ],
      "metadata": {
        "id": "0S6UlioogusC"
      }
    },
    {
      "cell_type": "code",
      "source": [
        "# dtpye : NumPy array의 데이터 타입 지정, 데이터 타입 확인\n",
        "arr = np.array([1, 2, 3], dtype = np.float64)               # NumPy array의 데이터 타입을 float64 실수형으로 지정\n",
        "print(arr)                                                  # [1. 2. 3.]\n",
        "\n",
        "print(arr.dtype)                                            # float64     # NumPy array의 데이터 타입 확인\n",
        "                                                            # 64 : 메모리에서 몇 비트를 사용할 것인지 나타내는 수"
      ],
      "metadata": {
        "colab": {
          "base_uri": "https://localhost:8080/"
        },
        "id": "rh8yw0wngr42",
        "outputId": "c6da70c3-59b6-4cf9-a1cc-1d3f28118302"
      },
      "execution_count": 11,
      "outputs": [
        {
          "output_type": "stream",
          "name": "stdout",
          "text": [
            "[1. 2. 3.]\n",
            "float64\n"
          ]
        }
      ]
    },
    {
      "cell_type": "code",
      "source": [
        "arr = np.array([1.1, 2.2, 3.3], dtype = np.int32)           # NumPy array의 데이터 타입을 int32 정수형으로 지정\n",
        "print(arr)                                                  # [1 2 3] : 실수 부분은 제거되고 정수 부분만 출력\n",
        "\n",
        "print(arr.dtype)                                            # int32"
      ],
      "metadata": {
        "colab": {
          "base_uri": "https://localhost:8080/"
        },
        "id": "XCjTw0C9hP0a",
        "outputId": "5084932b-5869-4314-ac37-c97aca3efb98"
      },
      "execution_count": 12,
      "outputs": [
        {
          "output_type": "stream",
          "name": "stdout",
          "text": [
            "[1 2 3]\n",
            "int32\n"
          ]
        }
      ]
    },
    {
      "cell_type": "code",
      "source": [
        "arr = np.array([0, 1, 1], dtype = np.bool_)                 # NumPy array의 데이터 타입을 Boolean 형으로 지정\n",
        "print(arr)                                                  # [False True True]\n",
        "\n",
        "print(arr.dtype)                                            # bool"
      ],
      "metadata": {
        "colab": {
          "base_uri": "https://localhost:8080/"
        },
        "id": "V7sgpgyBiaGd",
        "outputId": "43a57a73-7940-4060-b17c-e49975449144"
      },
      "execution_count": 13,
      "outputs": [
        {
          "output_type": "stream",
          "name": "stdout",
          "text": [
            "[False  True  True]\n",
            "bool\n"
          ]
        }
      ]
    },
    {
      "cell_type": "code",
      "source": [
        "# astpye : NumPy array의 데이터 타입 변경\n",
        "arr = np.array([0, 1, 2, 3])                                \n",
        "print(arr, arr.dtype)                                       # int64     # NumPy array의 데이터 타입을 따로 지정하지 않으면, NumPy array에 삽입된 데이터에 맞게 자동 지정됨\n",
        "\n",
        "arr = arr.astype(np.float32)                                # astype으로 NumPy array의 데이터 타입 변경. int64 -> float32\n",
        "print(arr, arr.dtype)                                       # float32"
      ],
      "metadata": {
        "colab": {
          "base_uri": "https://localhost:8080/"
        },
        "id": "2aNhu87UjD6v",
        "outputId": "67969484-b741-4a4c-8713-f2a8f6804ae3"
      },
      "execution_count": 16,
      "outputs": [
        {
          "output_type": "stream",
          "name": "stdout",
          "text": [
            "[0 1 2 3] int64\n",
            "[0. 1. 2. 3.] float32\n"
          ]
        }
      ]
    },
    {
      "cell_type": "code",
      "source": [
        "# NumPy array에서는 삽입되는 데이터의 조합을 단일 데이터의 조합만 허용\n",
        "arr = np.array([1, 2, 3.4])                                 # 정수형과 실수형 데이터를 혼합하여 저장하니,\n",
        "print(arr, arr.dtype)                                       # float64     # NumPy array의 데이터를 float64 실수형으로 데이터 타입을 하나로 맞춰 저장함\n",
        "\n",
        "arr = np.array([3, 4, \"99\"])                                # 정수형과 문자형 데이터를 혼합하여 저장하니,\n",
        "print(arr, arr.dtype)                                       # <U21 : 유니코드 형식     # NumPy array의 데이터를 문자형으로 데이터 타입을 하나로 맞춰 저장함\n",
        "\n",
        "arr = np.array([3, 4, \"문자다\"])                            # 정수형과 문자열 데이터를 혼합하여 저장하니,\n",
        "print(arr, arr.dtype)                                       # <U21 : 유니코드 형식     # NumPy array의 데이터를 문자열로 데이터 타입을 하나로 맞춰 저장함"
      ],
      "metadata": {
        "colab": {
          "base_uri": "https://localhost:8080/"
        },
        "id": "B6btNN7sjzlo",
        "outputId": "7b4df511-4d08-400b-cdf9-6b6b9fccafb8"
      },
      "execution_count": 20,
      "outputs": [
        {
          "output_type": "stream",
          "name": "stdout",
          "text": [
            "[1.  2.  3.4] float64\n",
            "['3' '4' '99'] <U21\n",
            "['3' '4' '문자다'] <U21\n"
          ]
        }
      ]
    },
    {
      "cell_type": "markdown",
      "source": [
        ">**참조**\n",
        ">\n",
        ">인프런 : 데이터 과학을 위한 파이썬 NumPy Basic\n",
        "></br>\n",
        ">https://www.inflearn.com/course/%EB%8D%B0%EC%9D%B4%ED%84%B0-%EA%B3%BC%ED%95%99-%EB%84%98%ED%8C%8C%EC%9D%B4-%EA%B8%B0%EB%B3%B8#"
      ],
      "metadata": {
        "id": "urn09lO-mwn4"
      }
    },
    {
      "cell_type": "code",
      "source": [
        ""
      ],
      "metadata": {
        "id": "W3xwHlxRmyQi"
      },
      "execution_count": null,
      "outputs": []
    }
  ]
}