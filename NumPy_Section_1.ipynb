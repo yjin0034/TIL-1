{
  "nbformat": 4,
  "nbformat_minor": 0,
  "metadata": {
    "colab": {
      "name": "NumPy_Section_1.ipynb",
      "provenance": [],
      "authorship_tag": "ABX9TyOAuBFe04hXrtC1lxIbzD8o",
      "include_colab_link": true
    },
    "kernelspec": {
      "name": "python3",
      "display_name": "Python 3"
    },
    "language_info": {
      "name": "python"
    }
  },
  "cells": [
    {
      "cell_type": "markdown",
      "metadata": {
        "id": "view-in-github",
        "colab_type": "text"
      },
      "source": [
        "<a href=\"https://colab.research.google.com/github/yjin0034/TIL-1/blob/master/NumPy_Section_1.ipynb\" target=\"_parent\"><img src=\"https://colab.research.google.com/assets/colab-badge.svg\" alt=\"Open In Colab\"/></a>"
      ]
    },
    {
      "cell_type": "code",
      "source": [
        "import numpy as np"
      ],
      "metadata": {
        "id": "PWydAn8MDaz-"
      },
      "execution_count": 3,
      "outputs": []
    },
    {
      "cell_type": "markdown",
      "source": [
        "#Section 1. N차원 배열 생성"
      ],
      "metadata": {
        "id": "atXJuLToEApw"
      }
    },
    {
      "cell_type": "markdown",
      "source": [
        "##1-1. N차원 배열(ndarray) 생성하기"
      ],
      "metadata": {
        "id": "GH3FzbisEEpz"
      }
    },
    {
      "cell_type": "code",
      "source": [
        "# 1차원 배열\n",
        "arr = np.array([1, 2, 3])\n",
        "print(arr)\n",
        "\n",
        "print()\n",
        "\n",
        "# 2차원 배열\n",
        "arr = np.array([[1, 2, 3],\n",
        "                [4, 5, 6]])\n",
        "print(arr)"
      ],
      "metadata": {
        "colab": {
          "base_uri": "https://localhost:8080/"
        },
        "id": "phq8ikZvEKwa",
        "outputId": "bbf1daa3-8bb6-47f2-f3b7-4d5a77242f0f"
      },
      "execution_count": 4,
      "outputs": [
        {
          "output_type": "stream",
          "name": "stdout",
          "text": [
            "[1 2 3]\n",
            "\n",
            "[[1 2 3]\n",
            " [4 5 6]]\n"
          ]
        }
      ]
    },
    {
      "cell_type": "code",
      "source": [
        "# 리스트\n",
        "type([1, 2, 3])"
      ],
      "metadata": {
        "colab": {
          "base_uri": "https://localhost:8080/"
        },
        "id": "hEgijfVAE4Tq",
        "outputId": "4ebd7065-c774-4e16-d61e-da9f5b932e91"
      },
      "execution_count": 5,
      "outputs": [
        {
          "output_type": "execute_result",
          "data": {
            "text/plain": [
              "list"
            ]
          },
          "metadata": {},
          "execution_count": 5
        }
      ]
    },
    {
      "cell_type": "code",
      "source": [
        "# Numpy Array\n",
        "type(arr)"
      ],
      "metadata": {
        "colab": {
          "base_uri": "https://localhost:8080/"
        },
        "id": "AdP5qid8E8Uv",
        "outputId": "86da9394-b5e7-4f85-f192-2cc2f4e51a9f"
      },
      "execution_count": 6,
      "outputs": [
        {
          "output_type": "execute_result",
          "data": {
            "text/plain": [
              "numpy.ndarray"
            ]
          },
          "metadata": {},
          "execution_count": 6
        }
      ]
    },
    {
      "cell_type": "code",
      "source": [
        "# 튜플로 Numpy Array 만들기\n",
        "tpl = (4, 5, 6)\n",
        "arr = np.array(tpl)\n",
        "print(arr)\n",
        "\n",
        "print()\n",
        "\n",
        "# 리스트로 Numpy Array 만들기\n",
        "lst = [1, 2, 3]\n",
        "arr = np.array(lst)\n",
        "print(arr)\n",
        "\n",
        "print()\n",
        "\n",
        "# 리스트로 2차원 Numpy Array 만들기\n",
        "lst2 = [[1, 2, 3], [4, 5, 6]]\n",
        "arr2 = np.array(lst2)\n",
        "print(arr2)"
      ],
      "metadata": {
        "colab": {
          "base_uri": "https://localhost:8080/"
        },
        "id": "EGNXu0sJFarS",
        "outputId": "a0c2b645-60b2-4774-f07a-32b69d0ee5ec"
      },
      "execution_count": 7,
      "outputs": [
        {
          "output_type": "stream",
          "name": "stdout",
          "text": [
            "[4 5 6]\n",
            "\n",
            "[1 2 3]\n",
            "\n",
            "[[1 2 3]\n",
            " [4 5 6]]\n"
          ]
        }
      ]
    },
    {
      "cell_type": "code",
      "source": [
        "# shape : 배열의 형태(모양) 출력\n",
        "arr1 =  np.array([1, 2, 3])\n",
        "arr2 = np.array([[1, 2, 3], [4, 5, 6]])\n",
        "\n",
        "print(arr1.shape)         # (3, ) : 원소가 3개인 1차원 배열\n",
        "\n",
        "print(arr2.shape)         # (2, 3) : 2행 3열의 2차원 배열\n",
        "\n",
        "print()\n",
        "\n",
        "# ndim : n-dimension, 배열의 차원 출력\n",
        "print(arr1.ndim)          # 1\n",
        "\n",
        "print(arr2.ndim)          # 2\n",
        "\n",
        "print()\n",
        "\n",
        "# size : 원소의 개수 출력\n",
        "print(arr1.size)          # 3\n",
        "\n",
        "print(arr2.size)          # 6"
      ],
      "metadata": {
        "colab": {
          "base_uri": "https://localhost:8080/"
        },
        "id": "ldnIsYaBF7PZ",
        "outputId": "6f3cbb4b-5995-47a6-ff04-e896b3d0ac9b"
      },
      "execution_count": 13,
      "outputs": [
        {
          "output_type": "stream",
          "name": "stdout",
          "text": [
            "(3,)\n",
            "(2, 3)\n",
            "\n",
            "1\n",
            "2\n",
            "\n",
            "3\n",
            "6\n"
          ]
        }
      ]
    },
    {
      "cell_type": "markdown",
      "source": [
        ">**참조**\n",
        ">\n",
        ">인프런 : 데이터 과학을 위한 파이썬 NumPy Basic\n",
        "></br>\n",
        ">https://www.inflearn.com/course/%EB%8D%B0%EC%9D%B4%ED%84%B0-%EA%B3%BC%ED%95%99-%EB%84%98%ED%8C%8C%EC%9D%B4-%EA%B8%B0%EB%B3%B8#\n"
      ],
      "metadata": {
        "id": "Rs4h5LBRR9Gb"
      }
    }
  ]
}