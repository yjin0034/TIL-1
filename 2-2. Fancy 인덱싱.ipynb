{
  "nbformat": 4,
  "nbformat_minor": 0,
  "metadata": {
    "colab": {
      "name": "2-2. Fancy 인덱싱.ipynb",
      "provenance": [],
      "authorship_tag": "ABX9TyPdloiAZiV9s/7qdb0RUvCh",
      "include_colab_link": true
    },
    "kernelspec": {
      "name": "python3",
      "display_name": "Python 3"
    },
    "language_info": {
      "name": "python"
    }
  },
  "cells": [
    {
      "cell_type": "markdown",
      "metadata": {
        "id": "view-in-github",
        "colab_type": "text"
      },
      "source": [
        "<a href=\"https://colab.research.google.com/github/yjin0034/TIL-1/blob/master/2-2.%20Fancy%20%EC%9D%B8%EB%8D%B1%EC%8B%B1.ipynb\" target=\"_parent\"><img src=\"https://colab.research.google.com/assets/colab-badge.svg\" alt=\"Open In Colab\"/></a>"
      ]
    },
    {
      "cell_type": "code",
      "source": [
        "import numpy as np"
      ],
      "metadata": {
        "id": "683Vz2M_jSO7"
      },
      "execution_count": 1,
      "outputs": []
    },
    {
      "cell_type": "markdown",
      "source": [
        "# Section 2. N차원 배열의 인덱싱"
      ],
      "metadata": {
        "id": "VMNsxP2Jh6jd"
      }
    },
    {
      "cell_type": "markdown",
      "source": [
        "## 2-2. 배열의 Fancy 인덱싱\n",
        "\n",
        "특정 인덱스를 여러개 선택하여 탐색하는 방법"
      ],
      "metadata": {
        "id": "Z7XcbjyVh6oV"
      }
    },
    {
      "cell_type": "code",
      "execution_count": 2,
      "metadata": {
        "colab": {
          "base_uri": "https://localhost:8080/"
        },
        "id": "VpPlbci9h0IN",
        "outputId": "d1ce545f-098f-44c8-aa1f-594c2c360736"
      },
      "outputs": [
        {
          "output_type": "stream",
          "name": "stdout",
          "text": [
            "[ 5 10 15 20 25 30]\n",
            "\n",
            "[ 5 15 25]\n"
          ]
        }
      ],
      "source": [
        "# 1차원 배열 Fancy 인덱싱\n",
        "\n",
        "# 5~30 사이의 5의 배수 숫자를 가진 1차원 배열 생성\n",
        "arr = np.array([5, 10, 15, 20, 25, 30])\n",
        "\n",
        "print(arr)\n",
        "\n",
        "print()\n",
        "\n",
        "print(arr[[0, 2, 4]])       # arr 1차원 배열의 원소 중 0, 2, 4번째 데이터 출력"
      ]
    },
    {
      "cell_type": "code",
      "source": [
        "# 2차원 배열\n",
        "\n",
        "# 3×4 행렬의 2차원 배열 생성 \n",
        "arr = np.array([[5, 10, 15, 20],\n",
        "               [25, 30, 35, 40],\n",
        "               [45, 50, 55, 60]])\n",
        "\n",
        "print(arr)\n",
        "\n",
        "print()\n",
        "\n",
        "print(arr[[0, 2], 2:])        # arr 2차원 배열의 원소들 중, 0, 2번째 행에 대해서, 2번째부터 끝까지의 열(2~3번째 열)에 해당하는 데이터 출력\n",
        "\n",
        "print()\n",
        "\n",
        "print(arr[1:, [2, 3]])        # arr 2차원 배열의 원소들 중, 1번째부터 끝까지의 행(1~2번째 행)에 대해서, 2, 3번째 열에 해당하는 데이터 출력"
      ],
      "metadata": {
        "colab": {
          "base_uri": "https://localhost:8080/"
        },
        "id": "DInK4kLCiEzF",
        "outputId": "c1fcb0cf-46da-4708-9b8e-95d133a8da41"
      },
      "execution_count": 3,
      "outputs": [
        {
          "output_type": "stream",
          "name": "stdout",
          "text": [
            "[[ 5 10 15 20]\n",
            " [25 30 35 40]\n",
            " [45 50 55 60]]\n",
            "\n",
            "[[15 20]\n",
            " [55 60]]\n",
            "\n",
            "[[35 40]\n",
            " [55 60]]\n"
          ]
        }
      ]
    },
    {
      "cell_type": "markdown",
      "source": [
        ">**참조**\n",
        ">\n",
        ">인프런 : 데이터 과학을 위한 파이썬 NumPy Basic\n",
        ">\n",
        ">https://www.inflearn.com/course/%EB%8D%B0%EC%9D%B4%ED%84%B0-%EA%B3%BC%ED%95%99-%EB%84%98%ED%8C%8C%EC%9D%B4-%EA%B8%B0%EB%B3%B8#"
      ],
      "metadata": {
        "id": "A8nLn8VumL5I"
      }
    }
  ]
}