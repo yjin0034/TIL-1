{
  "nbformat": 4,
  "nbformat_minor": 0,
  "metadata": {
    "colab": {
      "name": "3-2. 배열의 연산2.ipynb",
      "provenance": [],
      "collapsed_sections": [],
      "authorship_tag": "ABX9TyN1ZYgo/8v/vDJCy/J1aKKz",
      "include_colab_link": true
    },
    "kernelspec": {
      "name": "python3",
      "display_name": "Python 3"
    },
    "language_info": {
      "name": "python"
    }
  },
  "cells": [
    {
      "cell_type": "markdown",
      "metadata": {
        "id": "view-in-github",
        "colab_type": "text"
      },
      "source": [
        "<a href=\"https://colab.research.google.com/github/yjin0034/TIL-1/blob/master/3-2%20%EB%B0%B0%EC%97%B4%EC%9D%98%20%EC%97%B0%EC%82%B02.ipynb\" target=\"_parent\"><img src=\"https://colab.research.google.com/assets/colab-badge.svg\" alt=\"Open In Colab\"/></a>"
      ]
    },
    {
      "cell_type": "code",
      "execution_count": 1,
      "metadata": {
        "id": "a6TRKBh5G1a-"
      },
      "outputs": [],
      "source": [
        "import numpy as np"
      ]
    },
    {
      "cell_type": "markdown",
      "source": [
        "# Section 3. N차원 배열 연산법"
      ],
      "metadata": {
        "id": "CARzoBTAG5H7"
      }
    },
    {
      "cell_type": "markdown",
      "source": [
        "## 3-2. 배열의 연산2: 내적(dot product) / 절댓값 / 올림 / 내림 / 반올림 / 버림"
      ],
      "metadata": {
        "id": "D1h4ts2_G5UZ"
      }
    },
    {
      "cell_type": "code",
      "source": [
        "# 두 1차원 배열 간의 내적 연산\n",
        "\n",
        "# 내적(dot product): 스칼라 곱이라고도 한다\n",
        "'''\n",
        "1차원 행렬의 내적 연산: [a, b, c] · [e, f, g]  =  [ae + bf + cg] \n",
        "'''\n",
        "\n",
        "# 1차원 행렬 생성\n",
        "arr1 = np.array([1, 2, 3])\n",
        "arr2 = np.array([2, 4, 6])\n",
        "\n",
        "# np.dot() 메서드를 사용한 1차원 배열 간의 내적 연산\n",
        "print(np.dot(arr1, arr2))"
      ],
      "metadata": {
        "colab": {
          "base_uri": "https://localhost:8080/"
        },
        "id": "ruUkxXz2G5tl",
        "outputId": "ff4931dd-025f-4f8b-a3b9-fe2385085e75"
      },
      "execution_count": 2,
      "outputs": [
        {
          "output_type": "stream",
          "name": "stdout",
          "text": [
            "28\n"
          ]
        }
      ]
    },
    {
      "cell_type": "code",
      "source": [
        "# 두 2차원 배열 간의 내적 연산\n",
        "\n",
        "'''\n",
        "2차원 행렬의 내적 연산: [[a, b   · [[e, f]   =  [[ae + bg, af + bh] \n",
        "                         [c, d]]     [g, h]]      [ce + dg, cf + dh]]\n",
        "'''\n",
        "\n",
        "# 2×2 shape의 2차원 배열 생성\n",
        "arr1 = np.array([[1, 2],\n",
        "                 [3, 4]])\n",
        "\n",
        "arr2 = np.array([[2, 4],\n",
        "                 [0, 1]])\n",
        "\n",
        "# np.dot() 메서드를 사용한 2차원 배열 간의 내적 연산\n",
        "print(np.dot(arr1, arr2))"
      ],
      "metadata": {
        "colab": {
          "base_uri": "https://localhost:8080/"
        },
        "id": "aDipwqdvG5wM",
        "outputId": "b2ca2a73-42b1-4be4-8cee-b23873e2facb"
      },
      "execution_count": 3,
      "outputs": [
        {
          "output_type": "stream",
          "name": "stdout",
          "text": [
            "[[ 2  6]\n",
            " [ 6 16]]\n"
          ]
        }
      ]
    },
    {
      "cell_type": "code",
      "source": [
        "# 배열의 절댓값\n",
        "\n",
        "# 2×2 shape의 2차원 배열 생성\n",
        "arr1 = np.array([[2, -3],\n",
        "                 [-3, 4]])\n",
        "\n",
        "# np.abs() 메서드를 사용한 2차원 배열의 절댓값 계산   # 각 원소들의 절댓값을 배열로 반환\n",
        "print(np.abs(arr1))"
      ],
      "metadata": {
        "colab": {
          "base_uri": "https://localhost:8080/"
        },
        "id": "GHOZ45ERG5yz",
        "outputId": "e5b8d58f-92d8-410a-aa70-e2c716c52a72"
      },
      "execution_count": 4,
      "outputs": [
        {
          "output_type": "stream",
          "name": "stdout",
          "text": [
            "[[2 3]\n",
            " [3 4]]\n"
          ]
        }
      ]
    },
    {
      "cell_type": "code",
      "source": [
        "# 배열의 올림과 내림\n",
        "\n",
        "# 2×2 shape의 2차원 배열 생성\n",
        "arr1 = np.array([[1.423, -3.111],\n",
        "                 [-4.885, 4.241]])\n",
        "\n",
        "# 배열의 올림\n",
        "#\n",
        "# np.ceil() 메서드를 사용한 배열의 올림 계산    # 각 원소들에 올림한 값을 배열로 반환   # 올림 계산을 하면 소수점이 어떻던 간에 값이 올려진다\n",
        "print(np.ceil(arr1))\n",
        "\n",
        "print()\n",
        "\n",
        "# 배열의 내림 \n",
        "#\n",
        "# np.floor() 메서드를 사용한 배열의 내림 계산   # 각 원소들에 내림한 값을 배열로 반환   # 올림 계산을 하면 소수점이 어떻던 간에 값이 내려진다  # 내림 계산 대상이 -3.111과 같이 음수일 때, 내림을 하면 -4가 되는 것을 잘 이해하자. 예전에 배웠던 기억이 난다\n",
        "print(np.floor(arr1))"
      ],
      "metadata": {
        "colab": {
          "base_uri": "https://localhost:8080/"
        },
        "id": "kvguYM7GG51i",
        "outputId": "13b74872-6cc0-4ad9-fe00-fc2ec8d05d9d"
      },
      "execution_count": 5,
      "outputs": [
        {
          "output_type": "stream",
          "name": "stdout",
          "text": [
            "[[ 2. -3.]\n",
            " [-4.  5.]]\n",
            "\n",
            "[[ 1. -4.]\n",
            " [-5.  4.]]\n"
          ]
        }
      ]
    },
    {
      "cell_type": "code",
      "source": [
        "# 배열의 반올림과 버림\n",
        "\n",
        "# 2×2 shape의 2차원 배열 생성\n",
        "arr1 = np.array([[1.423, -3.111],\n",
        "                 [-4.885, 4.241]])\n",
        "\n",
        "# 배열의 반올림\n",
        "#\n",
        "# np.round() 메서드를 사용한 배열의 반올림 계산    # 각 원소들에 반올림한 값을 배열로 반환\n",
        "print(np.round(arr1))\n",
        "\n",
        "print()\n",
        "\n",
        "# 배열의 버림 \n",
        "#\n",
        "# np.trunc() 메서드를 사용한 배열의 버림 계산   # 각 원소들에 버림한 값을 배열로 반환   # 버림 계산을 하면, 소수점이 어떻던 간에 소수점 자리의 수가 버려지고 정수만 남게 된다\n",
        "print(np.trunc(arr1))"
      ],
      "metadata": {
        "colab": {
          "base_uri": "https://localhost:8080/"
        },
        "id": "ca-J66a4G54W",
        "outputId": "d0f766ba-87ad-4132-f3f9-267406198f97"
      },
      "execution_count": 6,
      "outputs": [
        {
          "output_type": "stream",
          "name": "stdout",
          "text": [
            "[[ 1. -3.]\n",
            " [-5.  4.]]\n",
            "\n",
            "[[ 1. -3.]\n",
            " [-4.  4.]]\n"
          ]
        }
      ]
    },
    {
      "cell_type": "markdown",
      "source": [
        ">**참조**\n",
        ">\n",
        ">인프런 : 데이터 과학을 위한 파이썬 NumPy Basic\n",
        ">\n",
        ">https://www.inflearn.com/course/%EB%8D%B0%EC%9D%B4%ED%84%B0-%EA%B3%BC%ED%95%99-%EB%84%98%ED%8C%8C%EC%9D%B4-%EA%B8%B0%EB%B3%B8#"
      ],
      "metadata": {
        "id": "mrA4-7cTG6Oz"
      }
    }
  ]
}