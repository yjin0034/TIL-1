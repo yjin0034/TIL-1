{
  "nbformat": 4,
  "nbformat_minor": 0,
  "metadata": {
    "colab": {
      "name": "1-5. 난수로 이루어진 N차원 배열 생성하기.ipynb",
      "provenance": [],
      "collapsed_sections": [],
      "authorship_tag": "ABX9TyOG1Zl9sw7genYvGYiacLTs",
      "include_colab_link": true
    },
    "kernelspec": {
      "name": "python3",
      "display_name": "Python 3"
    },
    "language_info": {
      "name": "python"
    }
  },
  "cells": [
    {
      "cell_type": "markdown",
      "metadata": {
        "id": "view-in-github",
        "colab_type": "text"
      },
      "source": [
        "<a href=\"https://colab.research.google.com/github/yjin0034/TIL-1/blob/master/1_5_%EB%82%9C%EC%88%98%EB%A1%9C_%EC%9D%B4%EB%A3%A8%EC%96%B4%EC%A7%84_N%EC%B0%A8%EC%9B%90_%EB%B0%B0%EC%97%B4_%EC%83%9D%EC%84%B1%ED%95%98%EA%B8%B0.ipynb\" target=\"_parent\"><img src=\"https://colab.research.google.com/assets/colab-badge.svg\" alt=\"Open In Colab\"/></a>"
      ]
    },
    {
      "cell_type": "code",
      "execution_count": 1,
      "metadata": {
        "id": "0GCshN-333Iq"
      },
      "outputs": [],
      "source": [
        "import numpy as np"
      ]
    },
    {
      "cell_type": "code",
      "source": [
        "# 데이터를 시각화하여 보기 위해 matplotlib 라이브러리 사용\n",
        "import matplotlib.pyplot as plt"
      ],
      "metadata": {
        "id": "ahYsVjT2448_"
      },
      "execution_count": 3,
      "outputs": []
    },
    {
      "cell_type": "markdown",
      "source": [
        "# Section 1. N차원 배열 생성"
      ],
      "metadata": {
        "id": "MGDiWIXS4dqG"
      }
    },
    {
      "cell_type": "markdown",
      "source": [
        "## 1-5. 난수로 N차원 배열 생성하기"
      ],
      "metadata": {
        "id": "JYpqZobR4lXr"
      }
    },
    {
      "cell_type": "code",
      "source": [
        "# np.random 모듈 : 주어진 형태의 난수 Array를 생성하는 모듈\n",
        "\n",
        "# np.random.normal() : 정규 분포로부터 난수 Array 추출\n",
        "# np.random.normal(loc, scale, size)    # loc 파라미터 : 정규 분포의 평균, scale 파라미터 : 표준 편차, size 파라미터 : 추출할 표본의 개수\n",
        "\n",
        "# (정규 분포로부터) 평균값이 0이고 표준 편차가 1인, 10개의 난수(로 구성된) Array 생성\n",
        "arr = np.random.normal(0, 1, 10)\n",
        "print(arr)\n",
        "\n",
        "print()\n",
        "\n",
        "# size를 shape 형태로 지정하면, 2행 3열(2×3) shape으로 이루어진 난수 Array 출력\n",
        "arr = np.random.normal(0, 1, (2, 3))\n",
        "print(arr)"
      ],
      "metadata": {
        "colab": {
          "base_uri": "https://localhost:8080/"
        },
        "id": "_kMsk2om4bmj",
        "outputId": "6b2369d6-491d-468d-c551-9e26586d6823"
      },
      "execution_count": 6,
      "outputs": [
        {
          "output_type": "stream",
          "name": "stdout",
          "text": [
            "[ 1.1520413   0.43400301  0.17599726  1.81105107  1.40722296  0.84616153\n",
            "  2.41040276 -0.0744581  -1.07884203 -0.85434707]\n",
            "\n",
            "[[ 0.18015355  0.02061371  0.78796514]\n",
            " [-0.09978972  0.39088228  0.5666501 ]]\n"
          ]
        }
      ]
    },
    {
      "cell_type": "code",
      "source": [
        "# 시각화하기  # matplotlib.pyplot 사용\n",
        "\n",
        "# (정규 분포로부터) 평균값이 0이고 표준 편차가 1인, 1000개의 난수(로 구성된) Array 생성\n",
        "arr = np.random.normal(0, 1, 1000)\n",
        "\n",
        "# plt.hist() 함수\n",
        "# 히스토그램 : 도수분포표의 각 계급의 양 끝 값을 가로축에 표시하고 그 계급의 도수를 세로축에 표시하여 직사각형 모양으로 나타낸 그래프. 한 가지 자료의 분포 상태를 한 눈에 알아보기 쉽도록 나타낸 그래프\n",
        "# bins 파라미터 : 히스토그램의 가로축 구간의 개수\n",
        "plt.hist(arr, bins=100)     # 앞서 생성한 Array의 1000개의 난수가 100개의 구간으로 구분되어 (히스토그램으로) 출력\n",
        "plt.show()"
      ],
      "metadata": {
        "colab": {
          "base_uri": "https://localhost:8080/",
          "height": 265
        },
        "id": "XX_8V-xo4qrA",
        "outputId": "2a50a848-ccbc-42fd-bdc1-9e4e65dd46ba"
      },
      "execution_count": 11,
      "outputs": [
        {
          "output_type": "display_data",
          "data": {
            "text/plain": [
              "<Figure size 432x288 with 1 Axes>"
            ],
            "image/png": "[encoded data removed]"
          },
          "metadata": {
            "needs_background": "light"
          }
        }
      ]
    },
    {
      "cell_type": "code",
      "source": [
        "# (정규 분포로부터) 평균값이 0이고 표준 편차가 1인, 10000개의 난수(로 구성된) Array 생성\n",
        "arr = np.random.normal(0, 1, 10000)\n",
        "\n",
        "plt.hist(arr, bins=100)     # 앞서 생성한 Array의 10000개의 난수가 100개의 구간으로 구분되어 (히스토그램으로) 출력\n",
        "plt.show()"
      ],
      "metadata": {
        "colab": {
          "base_uri": "https://localhost:8080/",
          "height": 266
        },
        "id": "9FG3OAAU4qtw",
        "outputId": "9647286d-a3c3-440f-9ef6-c8e5f7a2a543"
      },
      "execution_count": 12,
      "outputs": [
        {
          "output_type": "display_data",
          "data": {
            "text/plain": [
              "<Figure size 432x288 with 1 Axes>"
            ],
            "image/png": "[encoded data removed]"
          },
          "metadata": {
            "needs_background": "light"
          }
        }
      ]
    },
    {
      "cell_type": "code",
      "source": [
        "# np.random.rand() : (0부터 1사이의) 균등 분포로부터 난수 Array 추출\n",
        "\n",
        "# 균등 분포로부터 1000개의 난수(로 구성된) Array 추출   # 1000 : 추출할 표본의 개수\n",
        "arr = np.random.rand(1000)\n",
        "\n",
        "plt.hist(arr, bins=100)     # 앞서 생성한 Array의 1000개의 난수가 100개의 구간으로 구분되어 (히스토그램으로) 출력\n",
        "plt.show()"
      ],
      "metadata": {
        "colab": {
          "base_uri": "https://localhost:8080/",
          "height": 265
        },
        "id": "dM8OgLXK4qwM",
        "outputId": "b1774cc3-d55c-48e8-d431-a380f9b817c9"
      },
      "execution_count": 14,
      "outputs": [
        {
          "output_type": "display_data",
          "data": {
            "text/plain": [
              "<Figure size 432x288 with 1 Axes>"
            ],
            "image/png": "[encoded data removed]"
          },
          "metadata": {
            "needs_background": "light"
          }
        }
      ]
    },
    {
      "cell_type": "code",
      "source": [
        "# np.random.randn() : 가우시안 표준 정규 분포로부터 난수 Array 추출\n",
        "\n",
        "# 가우시안 표준 정규 분포로부터 1000개의 난수(로 구성된) Array 추출   # 1000 : 추출할 표본의 개수\n",
        "arr = np.random.randn(1000)\n",
        "\n",
        "plt.hist(arr, bins=100)     # 앞서 생성한 Array의 1000개의 난수가 100개의 구간으로 구분되어 (히스토그램으로) 출력\n",
        "plt.show()"
      ],
      "metadata": {
        "colab": {
          "base_uri": "https://localhost:8080/",
          "height": 265
        },
        "id": "EbQM1uNG-NY2",
        "outputId": "26345c97-212c-447d-e5b1-5e74c7f21e6d"
      },
      "execution_count": 15,
      "outputs": [
        {
          "output_type": "display_data",
          "data": {
            "text/plain": [
              "<Figure size 432x288 with 1 Axes>"
            ],
            "image/png": "[encoded data removed]"
          },
          "metadata": {
            "needs_background": "light"
          }
        }
      ]
    },
    {
      "cell_type": "code",
      "source": [
        "# np.random.randint() : 균등 분포로부터 정수값의 난수 Array 추출\n",
        "\n",
        "# arr = np.random.randint(low, high, size)    # low부터 high 미만까지의 범위의 값 추출. size 파라미터 : 추출할 표본의 개수\n",
        "\n",
        "# (균등 분포로부터) 1부터 4까지의 값 범위 내에서 10개의 정수값 난수(로 구성된) Array 생성\n",
        "arr = np.random.randint(low=1, high=5, size=10)   \n",
        "print(arr)\n",
        "\n",
        "print()\n",
        "\n",
        "# (균등 분포로부터) 1부터 4까지의 값 범위 내에서 3행 4열(3×4) shape으로 이루어진 정수값 난수 Array 생성\n",
        "arr = np.random.randint(low=1, high=5, size=(3, 4))\n",
        "print(arr)\n",
        "\n",
        "print()\n",
        "\n",
        "# 만일, () 안에 하나의 값만 넣는다면, 해당 값을 high 파라미터의 값으로 자동으로 인식한다.\n",
        "# (균등 분포로부터) 0부터 4까지의 값 범위 내에서 1개의 정수값 난수(로 구성된) Array 출력\n",
        "arr = np.random.randint(5)\n",
        "print(arr)"
      ],
      "metadata": {
        "colab": {
          "base_uri": "https://localhost:8080/"
        },
        "id": "20AuoMiNJCMO",
        "outputId": "9317a5de-bba8-41e9-e376-cc194e66f182"
      },
      "execution_count": 18,
      "outputs": [
        {
          "output_type": "stream",
          "name": "stdout",
          "text": [
            "[4 2 2 3 1 3 3 4 1 2]\n",
            "\n",
            "[[1 1 4 2]\n",
            " [1 3 3 1]\n",
            " [3 3 2 2]]\n",
            "\n",
            "1\n"
          ]
        }
      ]
    },
    {
      "cell_type": "code",
      "source": [
        "# (균등 분포로부터) 100부터 200까지의 값 범위 내에서 1000개의 정수값 난수(로 구성된) Array 생성\n",
        "arr = np.random.randint(100, 201, 1000)\n",
        "\n",
        "plt.hist(arr, bins=100)     # 앞서 생성한 Array의 1000개의 난수가 100개의 구간으로 구분되어 (히스토그램으로) 출력\n",
        "plt.show()"
      ],
      "metadata": {
        "colab": {
          "base_uri": "https://localhost:8080/",
          "height": 265
        },
        "id": "tfJ9G9cpJCO5",
        "outputId": "ae70c17f-3cdb-4e99-a1f6-858dce43e6c7"
      },
      "execution_count": 19,
      "outputs": [
        {
          "output_type": "display_data",
          "data": {
            "text/plain": [
              "<Figure size 432x288 with 1 Axes>"
            ],
            "image/png": "[encoded data removed]"
          },
          "metadata": {
            "needs_background": "light"
          }
        }
      ]
    },
    {
      "cell_type": "markdown",
      "source": [
        ">**참조**\n",
        ">\n",
        ">인프런 : 데이터 과학을 위한 파이썬 NumPy Basic\n",
        ">\n",
        ">https://www.inflearn.com/course/%EB%8D%B0%EC%9D%B4%ED%84%B0-%EA%B3%BC%ED%95%99-%EB%84%98%ED%8C%8C%EC%9D%B4-%EA%B8%B0%EB%B3%B8#"
      ],
      "metadata": {
        "id": "gdFwciJ7-Mtv"
      }
    }
  ]
}